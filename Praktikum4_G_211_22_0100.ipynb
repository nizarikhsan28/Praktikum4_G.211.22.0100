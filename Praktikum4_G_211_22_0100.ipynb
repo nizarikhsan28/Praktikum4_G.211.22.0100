{
  "nbformat": 4,
  "nbformat_minor": 0,
  "metadata": {
    "colab": {
      "provenance": []
    },
    "kernelspec": {
      "name": "python3",
      "display_name": "Python 3"
    },
    "language_info": {
      "name": "python"
    }
  },
  "cells": [
    {
      "cell_type": "code",
      "execution_count": 1,
      "metadata": {
        "colab": {
          "base_uri": "https://localhost:8080/"
        },
        "id": "Rp9QHq-GEC9A",
        "outputId": "c2f7e152-4e23-4107-d290-a4c375103a12"
      },
      "outputs": [
        {
          "output_type": "stream",
          "name": "stdout",
          "text": [
            "\"The quick brown fox jumps over the lazy dog\"\n",
            "\n",
            "Merupakan pangram\n"
          ]
        }
      ],
      "source": [
        "# Fungsi untuk memeriksa apakah suatu kalimat adalah pangram atau bukan\n",
        "def checkPangram(s):\n",
        "    # Inisialisasi list dengan 26 elemen False untuk merepresentasikan huruf-huruf alfabet\n",
        "    List = [False] * 26\n",
        "\n",
        "    # Konversi kalimat ke huruf kecil dan iterasi\n",
        "    for c in s.lower():\n",
        "        if not c == \" \":\n",
        "            # Menandai entri yang sesuai menjadi True\n",
        "            List[ord(c) - ord('a')] = True\n",
        "\n",
        "    # Periksa jika ada huruf yang hilang, jika tidak return True, jika ada return False\n",
        "    for ch in List:\n",
        "        if ch == False:\n",
        "            return False\n",
        "    return True\n",
        "\n",
        "# Kalimat untuk diuji\n",
        "sentence = \"The quick brown fox jumps over the lazy dog\"\n",
        "\n",
        "# Mengecek apakah kalimat tersebut pangram atau tidak\n",
        "if (checkPangram(sentence)):\n",
        "    print(f'\"{sentence}\"')\n",
        "    print(\"\\nMerupakan pangram\")\n",
        "else:\n",
        "    print(f'\"{sentence}\"')\n",
        "    print(\"\\nBukan pangram\")"
      ]
    }
  ]
}